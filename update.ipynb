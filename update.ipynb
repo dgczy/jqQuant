{
 "cells": [
  {
   "cell_type": "markdown",
   "metadata": {},
   "source": [
    "# 数据更新\n",
    "\n",
    "- 作者：DGC'Idea\n",
    "- 版本：V0.1   \n",
    "- 更新日期：2018年8月6日"
   ]
  },
  {
   "cell_type": "code",
   "execution_count": 2,
   "metadata": {
    "code_folding": [],
    "scrolled": false
   },
   "outputs": [
    {
     "name": "stdout",
     "output_type": "stream",
     "text": [
      "数据更新：英国富时100 HTTPSConnectionPool(host='forexdata.wallstreetcn.com', port=443): Max retries exceeded with url: /kline?prod_code=UK100INDEX&candle_period=8&data_count=1000&end_time=1563465600&fields=time_stamp%2Copen_px%2Cclose_px%2Chigh_px%2Clow_px (Caused by NewConnectionError('<requests.packages.urllib3.connection.VerifiedHTTPSConnection object at 0x7fe79c19f090>: Failed to establish a new connection: [Errno -3] Temporary failure in name resolution',))\n",
      "数据更新：道琼斯指  0 失败  HTTPSConnectionPool(host='forexdata.wallstreetcn.com', port=443): Max retries exceeded with url: /kline?prod_code=US30INDEX&candle_period=8&data_count=1000&end_time=1563465600&fields=time_stamp%2Copen_px%2Cclose_px%2Chigh_px%2Clow_px (Caused by NewConnectionError('<requests.packages.urllib3.connection.VerifiedHTTPSConnection object at 0x7fe79c19f1d0>: Failed to establish a new connection: [Errno -3] Temporary failure in name resolution',))\n",
      "数据更新：日经225   HTTPSConnectionPool(host='forexdata.wallstreetcn.com', port=443): Max retries exceeded with url: /kline?prod_code=JPN225INDEX&candle_period=8&data_count=1000&end_time=1563465600&fields=time_stamp%2Copen_px%2Cclose_px%2Chigh_px%2Clow_px (Caused by NewConnectionError('<requests.packages.urllib3.connection.VerifiedHTTPSConnection object at 0x7fe79c19f4d0>: Failed to establish a new connection: [Errno -3] Temporary failure in name resolution',))\n",
      "数据更新：纳斯达克  失败   HTTPSConnectionPool(host='forexdata.wallstreetcn.com', port=443): Max retries exceeded with url: /kline?prod_code=NASINDEX&candle_period=8&data_count=1000&end_time=1563465600&fields=time_stamp%2Copen_px%2Cclose_px%2Chigh_px%2Clow_px (Caused by NewConnectionError('<requests.packages.urllib3.connection.VerifiedHTTPSConnection object at 0x7fe79c19f0d0>: Failed to establish a new connection: [Errno -3] Temporary failure in name resolution',))\n",
      "数据更新：法国CAC40  HTTPSConnectionPool(host='forexdata.wallstreetcn.com', port=443): Max retries exceeded with url: /kline?prod_code=FRA40INDEX&candle_period=8&data_count=1000&end_time=1563465600&fields=time_stamp%2Copen_px%2Cclose_px%2Chigh_px%2Clow_px (Caused by NewConnectionError('<requests.packages.urllib3.connection.VerifiedHTTPSConnection object at 0x7fe79c19f090>: Failed to establish a new connection: [Errno -3] Temporary failure in name resolution',))\n",
      "数据更新：欧洲斯托克50 失败  HTTPSConnectionPool(host='forexdata.wallstreetcn.com', port=443): Max retries exceeded with url: /kline?prod_code=EUSTX50INDEX&candle_period=8&data_count=1000&end_time=1563465600&fields=time_stamp%2Copen_px%2Cclose_px%2Chigh_px%2Clow_px (Caused by NewConnectionError('<requests.packages.urllib3.connection.VerifiedHTTPSConnection object at 0x7fe79c19f3d0>: Failed to establish a new connection: [Errno -3] Temporary failure in name resolution',))\n",
      "数据更新：德国DAX30 失败   HTTPSConnectionPool(host='forexdata.wallstreetcn.com', port=443): Max retries exceeded with url: /kline?prod_code=GER30INDEX&candle_period=8&data_count=1000&end_time=1563465600&fields=time_stamp%2Copen_px%2Cclose_px%2Chigh_px%2Clow_px (Caused by NewConnectionError('<requests.packages.urllib3.connection.VerifiedHTTPSConnection object at 0x7fe79c19f950>: Failed to establish a new connection: [Errno -3] Temporary failure in name resolution',))\n",
      "数据更新：指数，无需更新 失败  \n",
      "数据分析：指数估值，分析完毕 ] 数据据据据                                                                                                                                                                                                                                       \n",
      "数据分析：指数行情，分析完毕 ] 数据 数据 据                                                                                                                                                              \n",
      "数据更新：板块，无需更新\n",
      "数据分析：板块估值，分析完毕 ] 数据     \n",
      "数据分析：板块行情，分析完毕 ] 数据              \n",
      "数据更新：行业，无需更新 \n",
      "数据分析：行业估值，分析完毕有 ] 数据据                                                                                                                \n",
      "数据分析：行业行情，分析完毕B ] 数据 据                                                                          \n",
      "数据更新：商品，无需更新 \n",
      "数据分析：商品估值，分析完毕 ] 数据数据   \n",
      "数据分析：商品行情，分析完毕格 ] 数据 据  \n",
      "数据更新：波罗的海干散货指数    华尔街见闻网站数据：HTTPSConnectionPool(host='forexdata.wallstreetcn.com', port=443): Max retries exceeded with url: /kline?prod_code=BDIINDEX&candle_period=8&data_count=1000&end_time=1563465600&fields=time_stamp%2Copen_px%2Cclose_px%2Chigh_px%2Clow_px (Caused by NewConnectionError('<requests.packages.urllib3.connection.VerifiedHTTPSConnection object at 0x7fe79c9d1110>: Failed to establish a new connection: [Errno -3] Temporary failure in name resolution',))\n",
      "数据更新：在岸人民币 华尔街见闻网站数据：HTTPSConnectionPool(host='forexdata.wallstreetcn.com', port=443): Max retries exceeded with url: /kline?prod_code=USDCNY&candle_period=8&data_count=1000&end_time=1563465600&fields=time_stamp%2Copen_px%2Cclose_px%2Chigh_px%2Clow_px (Caused by NewConnectionError('<requests.packages.urllib3.connection.VerifiedHTTPSConnection object at 0x7fe79c9d1150>: Failed to establish a new connection: [Errno -3] Temporary failure in name resolution',))\n",
      "数据更新：美国十年期国债拆借利率  华尔街见闻网站数据：HTTPSConnectionPool(host='forexdata.wallstreetcn.com', port=443): Max retries exceeded with url: /kline?prod_code=US10YEAR&candle_period=8&data_count=1000&end_time=1563465600&fields=time_stamp%2Copen_px%2Cclose_px%2Chigh_px%2Clow_px (Caused by NewConnectionError('<requests.packages.urllib3.connection.VerifiedHTTPSConnection object at 0x7fe79c9d1350>: Failed to establish a new connection: [Errno -3] Temporary failure in name resolution',))\n",
      "数据更新：中国五年期国债 华尔街见闻网站数据：HTTPSConnectionPool(host='forexdata.wallstreetcn.com', port=443): Max retries exceeded with url: /kline?prod_code=CHINA5YEAR&candle_period=8&data_count=1000&end_time=1563465600&fields=time_stamp%2Copen_px%2Cclose_px%2Chigh_px%2Clow_px (Caused by NewConnectionError('<requests.packages.urllib3.connection.VerifiedHTTPSConnection object at 0x7fe79c9d1310>: Failed to establish a new connection: [Errno -3] Temporary failure in name resolution',))\n",
      "数据更新：中国十年期国债 华尔街见闻网站数据：HTTPSConnectionPool(host='forexdata.wallstreetcn.com', port=443): Max retries exceeded with url: /kline?prod_code=CHINA10YEAR&candle_period=8&data_count=1000&end_time=1563465600&fields=time_stamp%2Copen_px%2Cclose_px%2Chigh_px%2Clow_px (Caused by NewConnectionError('<requests.packages.urllib3.connection.VerifiedHTTPSConnection object at 0x7fe79be84a90>: Failed to establish a new connection: [Errno -3] Temporary failure in name resolution',))\n",
      "数据更新：美国五年期国债 华尔街见闻网站数据：HTTPSConnectionPool(host='forexdata.wallstreetcn.com', port=443): Max retries exceeded with url: /kline?prod_code=US5YEAR&candle_period=8&data_count=1000&end_time=1563465600&fields=time_stamp%2Copen_px%2Cclose_px%2Chigh_px%2Clow_px (Caused by NewConnectionError('<requests.packages.urllib3.connection.VerifiedHTTPSConnection object at 0x7fe79be849d0>: Failed to establish a new connection: [Errno -3] Temporary failure in name resolution',))\n",
      "数据更新：VIX波动率 华尔街见闻网站数据：HTTPSConnectionPool(host='forexdata.wallstreetcn.com', port=443): Max retries exceeded with url: /kline?prod_code=SP500VIXINDEX&candle_period=8&data_count=1000&end_time=1563465600&fields=time_stamp%2Copen_px%2Cclose_px%2Chigh_px%2Clow_px (Caused by NewConnectionError('<requests.packages.urllib3.connection.VerifiedHTTPSConnection object at 0x7fe79be84ad0>: Failed to establish a new connection: [Errno -3] Temporary failure in name resolution',))\n",
      "数据更新：美元指数 华尔街见闻网站数据：HTTPSConnectionPool(host='forexdata.wallstreetcn.com', port=443): Max retries exceeded with url: /kline?prod_code=USDOLLARINDEX&candle_period=8&data_count=1000&end_time=1563465600&fields=time_stamp%2Copen_px%2Cclose_px%2Chigh_px%2Clow_px (Caused by NewConnectionError('<requests.packages.urllib3.connection.VerifiedHTTPSConnection object at 0x7fe79be84a10>: Failed to establish a new connection: [Errno -3] Temporary failure in name resolution',))\n",
      "数据更新：离岸人民币 华尔街见闻网站数据：HTTPSConnectionPool(host='forexdata.wallstreetcn.com', port=443): Max retries exceeded with url: /kline?prod_code=USDCNH&candle_period=8&data_count=1000&end_time=1563465600&fields=time_stamp%2Copen_px%2Cclose_px%2Chigh_px%2Clow_px (Caused by NewConnectionError('<requests.packages.urllib3.connection.VerifiedHTTPSConnection object at 0x7fe79b60bf50>: Failed to establish a new connection: [Errno -3] Temporary failure in name resolution',))\n",
      "数据更新：宏观，无需更新\n"
     ]
    }
   ],
   "source": [
    "from update import *\n",
    "update()"
   ]
  },
  {
   "cell_type": "code",
   "execution_count": null,
   "metadata": {},
   "outputs": [],
   "source": []
  }
 ],
 "metadata": {
  "kernelspec": {
   "display_name": "Python 2",
   "language": "python",
   "name": "python2"
  },
  "language_info": {
   "codemirror_mode": {
    "name": "ipython",
    "version": 2
   },
   "file_extension": ".py",
   "mimetype": "text/x-python",
   "name": "python",
   "nbconvert_exporter": "python",
   "pygments_lexer": "ipython2",
   "version": "2.7.10"
  }
 },
 "nbformat": 4,
 "nbformat_minor": 2
}
