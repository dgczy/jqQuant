{
 "cells": [
  {
   "cell_type": "markdown",
   "metadata": {},
   "source": [
    "# 申万1级行业\n",
    "\n",
    "- 作者：DGC'Idea\n",
    "- 版本：V0.2   \n",
    "- 更新日期：2018年2月4日\n",
    "\n",
    "----------\n",
    "\n",
    "- 研究目的：跟踪行业热度，分析行业估值及财务信息；\n",
    "- 研究方法：行业的估值（PE、PB、ROE等主要财务指标；\n",
    "- 研究流程：基本功能实现 -> 生成标的 -> 获取数据 -> 数据分析 -> 图表分析。"
   ]
  },
  {
   "cell_type": "code",
   "execution_count": 1,
   "metadata": {},
   "outputs": [
    {
     "name": "stdout",
     "output_type": "stream",
     "text": [
      "数据引擎：运行于研究\n",
      "行业框架：运行于研究\n"
     ]
    }
   ],
   "source": [
    "import pandas as pd \n",
    "import numpy as np\n",
    "\n",
    "import sys\n",
    "sys.path.append('/home/jquser')\n",
    "from pf_idu import Industry\n",
    "from vd_idu import iduView \n",
    "\n",
    "idu=Industry('csv','../Data/',project_name='sw1')\n",
    "view=iduView(idu,u'申万一级') "
   ]
  },
  {
   "cell_type": "markdown",
   "metadata": {},
   "source": [
    "## 1.设置行业"
   ]
  },
  {
   "cell_type": "code",
   "execution_count": 3,
   "metadata": {},
   "outputs": [],
   "source": [
    "idu.pool.create()"
   ]
  },
  {
   "cell_type": "markdown",
   "metadata": {},
   "source": [
    "## 2.查看行业"
   ]
  },
  {
   "cell_type": "code",
   "execution_count": 2,
   "metadata": {
    "scrolled": true
   },
   "outputs": [
    {
     "data": {
      "text/html": [
       "<div>\n",
       "<table border=\"1\" class=\"dataframe\">\n",
       "  <thead>\n",
       "    <tr style=\"text-align: right;\">\n",
       "      <th></th>\n",
       "      <th>名称</th>\n",
       "      <th>成立日期</th>\n",
       "    </tr>\n",
       "  </thead>\n",
       "  <tbody>\n",
       "    <tr>\n",
       "      <th>801740</th>\n",
       "      <td>国防军工I</td>\n",
       "      <td>2014-02-21</td>\n",
       "    </tr>\n",
       "    <tr>\n",
       "      <th>801020</th>\n",
       "      <td>采掘I</td>\n",
       "      <td>2003-10-15</td>\n",
       "    </tr>\n",
       "    <tr>\n",
       "      <th>801110</th>\n",
       "      <td>家用电器I</td>\n",
       "      <td>2003-10-15</td>\n",
       "    </tr>\n",
       "    <tr>\n",
       "      <th>801160</th>\n",
       "      <td>公用事业I</td>\n",
       "      <td>2003-10-15</td>\n",
       "    </tr>\n",
       "    <tr>\n",
       "      <th>801770</th>\n",
       "      <td>通信I</td>\n",
       "      <td>2014-02-21</td>\n",
       "    </tr>\n",
       "    <tr>\n",
       "      <th>801010</th>\n",
       "      <td>农林牧渔I</td>\n",
       "      <td>2003-10-15</td>\n",
       "    </tr>\n",
       "    <tr>\n",
       "      <th>801120</th>\n",
       "      <td>食品饮料I</td>\n",
       "      <td>2003-10-15</td>\n",
       "    </tr>\n",
       "    <tr>\n",
       "      <th>801750</th>\n",
       "      <td>计算机I</td>\n",
       "      <td>2014-02-21</td>\n",
       "    </tr>\n",
       "    <tr>\n",
       "      <th>801050</th>\n",
       "      <td>有色金属I</td>\n",
       "      <td>2003-10-15</td>\n",
       "    </tr>\n",
       "    <tr>\n",
       "      <th>801890</th>\n",
       "      <td>机械设备I</td>\n",
       "      <td>2014-02-21</td>\n",
       "    </tr>\n",
       "    <tr>\n",
       "      <th>801170</th>\n",
       "      <td>交通运输I</td>\n",
       "      <td>2003-10-15</td>\n",
       "    </tr>\n",
       "    <tr>\n",
       "      <th>801710</th>\n",
       "      <td>建筑材料I</td>\n",
       "      <td>2014-02-21</td>\n",
       "    </tr>\n",
       "    <tr>\n",
       "      <th>801040</th>\n",
       "      <td>钢铁I</td>\n",
       "      <td>2003-10-15</td>\n",
       "    </tr>\n",
       "    <tr>\n",
       "      <th>801130</th>\n",
       "      <td>纺织服装I</td>\n",
       "      <td>2003-10-15</td>\n",
       "    </tr>\n",
       "    <tr>\n",
       "      <th>801880</th>\n",
       "      <td>汽车I</td>\n",
       "      <td>2014-02-21</td>\n",
       "    </tr>\n",
       "    <tr>\n",
       "      <th>801180</th>\n",
       "      <td>房地产I</td>\n",
       "      <td>2003-10-15</td>\n",
       "    </tr>\n",
       "    <tr>\n",
       "      <th>801230</th>\n",
       "      <td>综合I</td>\n",
       "      <td>2003-10-15</td>\n",
       "    </tr>\n",
       "    <tr>\n",
       "      <th>801760</th>\n",
       "      <td>传媒I</td>\n",
       "      <td>2014-02-21</td>\n",
       "    </tr>\n",
       "    <tr>\n",
       "      <th>801200</th>\n",
       "      <td>商业贸易I</td>\n",
       "      <td>2003-10-15</td>\n",
       "    </tr>\n",
       "    <tr>\n",
       "      <th>801780</th>\n",
       "      <td>银行I</td>\n",
       "      <td>2014-02-21</td>\n",
       "    </tr>\n",
       "    <tr>\n",
       "      <th>801140</th>\n",
       "      <td>轻工制造I</td>\n",
       "      <td>2003-10-15</td>\n",
       "    </tr>\n",
       "    <tr>\n",
       "      <th>801720</th>\n",
       "      <td>建筑装饰I</td>\n",
       "      <td>2014-02-21</td>\n",
       "    </tr>\n",
       "    <tr>\n",
       "      <th>801080</th>\n",
       "      <td>电子I</td>\n",
       "      <td>2003-10-15</td>\n",
       "    </tr>\n",
       "    <tr>\n",
       "      <th>801790</th>\n",
       "      <td>非银金融I</td>\n",
       "      <td>2014-02-21</td>\n",
       "    </tr>\n",
       "    <tr>\n",
       "      <th>801030</th>\n",
       "      <td>化工I</td>\n",
       "      <td>2003-10-15</td>\n",
       "    </tr>\n",
       "    <tr>\n",
       "      <th>801730</th>\n",
       "      <td>电气设备I</td>\n",
       "      <td>2014-02-21</td>\n",
       "    </tr>\n",
       "    <tr>\n",
       "      <th>801210</th>\n",
       "      <td>休闲服务I</td>\n",
       "      <td>2003-10-15</td>\n",
       "    </tr>\n",
       "    <tr>\n",
       "      <th>801150</th>\n",
       "      <td>医药生物I</td>\n",
       "      <td>2003-10-15</td>\n",
       "    </tr>\n",
       "  </tbody>\n",
       "</table>\n",
       "</div>"
      ],
      "text/plain": [
       "           名称        成立日期\n",
       "801740  国防军工I  2014-02-21\n",
       "801020    采掘I  2003-10-15\n",
       "801110  家用电器I  2003-10-15\n",
       "801160  公用事业I  2003-10-15\n",
       "801770    通信I  2014-02-21\n",
       "801010  农林牧渔I  2003-10-15\n",
       "801120  食品饮料I  2003-10-15\n",
       "801750   计算机I  2014-02-21\n",
       "801050  有色金属I  2003-10-15\n",
       "801890  机械设备I  2014-02-21\n",
       "801170  交通运输I  2003-10-15\n",
       "801710  建筑材料I  2014-02-21\n",
       "801040    钢铁I  2003-10-15\n",
       "801130  纺织服装I  2003-10-15\n",
       "801880    汽车I  2014-02-21\n",
       "801180   房地产I  2003-10-15\n",
       "801230    综合I  2003-10-15\n",
       "801760    传媒I  2014-02-21\n",
       "801200  商业贸易I  2003-10-15\n",
       "801780    银行I  2014-02-21\n",
       "801140  轻工制造I  2003-10-15\n",
       "801720  建筑装饰I  2014-02-21\n",
       "801080    电子I  2003-10-15\n",
       "801790  非银金融I  2014-02-21\n",
       "801030    化工I  2003-10-15\n",
       "801730  电气设备I  2014-02-21\n",
       "801210  休闲服务I  2003-10-15\n",
       "801150  医药生物I  2003-10-15"
      ]
     },
     "execution_count": 2,
     "metadata": {},
     "output_type": "execute_result"
    }
   ],
   "source": [
    "idu.pool.show()"
   ]
  },
  {
   "cell_type": "markdown",
   "metadata": {},
   "source": [
    "## 3.获取数据"
   ]
  },
  {
   "cell_type": "code",
   "execution_count": 3,
   "metadata": {
    "scrolled": false
   },
   "outputs": [
    {
     "name": "stdout",
     "output_type": "stream",
     "text": [
      "数据更新：行业，无需更新     \n"
     ]
    }
   ],
   "source": [
    "idu.data.update(idu.pool.track)"
   ]
  },
  {
   "cell_type": "markdown",
   "metadata": {},
   "source": [
    "## 4.数据分析\n",
    "- 估值分析\n",
    "- 行情分析"
   ]
  },
  {
   "cell_type": "code",
   "execution_count": 4,
   "metadata": {
    "scrolled": false
   },
   "outputs": [
    {
     "name": "stdout",
     "output_type": "stream",
     "text": [
      "\r",
      "数据分析：行业估值，无需重新分析\n",
      "\r",
      "数据分析：行业行情，无需重新分析\n"
     ]
    }
   ],
   "source": [
    "idu.value.update(idu.pool.track,[10,5,3,0])\n",
    "idu.change.update(idu.pool.track,['close','pe','pb'])"
   ]
  },
  {
   "cell_type": "markdown",
   "metadata": {
    "collapsed": true
   },
   "source": [
    "## 5.估值表\n",
    "- PE-TTM：滚动市盈率（中位值），为近五年的数据；\n",
    "- 高度：表示时间窗内（五年），低于当前值的个数与全部样本个数的比例，代表当前值在历史统计值的估值位置；\n",
    "- 最小值：表示时间窗内（五年）理论最小估值，表示其估值下限；\n",
    "- 最大值：表示时间窗内（五年）理论最大估值，表示其估值上限；\n",
    "- 中位数：表示时间窗内（五年），代表该指数的理论合理估值；\n",
    "- 距底：表示当前值与最低值的距离，代表最大的可能跌幅；\n",
    "- ROE：净资产收益率（年报、扣非后）；\n",
    "- 股息率：成份股加权股息率； "
   ]
  },
  {
   "cell_type": "code",
   "execution_count": 5,
   "metadata": {
    "scrolled": false
   },
   "outputs": [
    {
     "data": {
      "application/vnd.jupyter.widget-view+json": {
       "model_id": "82fe8f8c9acb4dd0b855196a80ad7e19",
       "version_major": 2,
       "version_minor": 0
      },
      "text/plain": [
       "SEJveChjaGlsZHJlbj0oSEJveChjaGlsZHJlbj0oU2VsZWN0KGRlc2NyaXB0aW9uPXUnXHU5ODc5XHU3NmVlJywgbGF5b3V0PUxheW91dChoZWlnaHQ9dSc5MnB4JyksIG9wdGlvbnM9KHUnXHXigKY=\n"
      ]
     },
     "metadata": {},
     "output_type": "display_data"
    },
    {
     "data": {
      "application/vnd.jupyter.widget-view+json": {
       "model_id": "ea2fef2fa3c44ef8a8c4882c76ee8f32",
       "version_major": 2,
       "version_minor": 0
      },
      "text/plain": [
       "Output()"
      ]
     },
     "metadata": {},
     "output_type": "display_data"
    }
   ],
   "source": [
    "view.table()"
   ]
  },
  {
   "cell_type": "markdown",
   "metadata": {},
   "source": [
    "## 6.估值图表\n",
    "1. PE与价格对比图\n",
    "2. PB与价格对比图\n",
    "3. 股息率与价格对比图"
   ]
  },
  {
   "cell_type": "markdown",
   "metadata": {},
   "source": [
    "### 6.1.行业走势"
   ]
  },
  {
   "cell_type": "code",
   "execution_count": 6,
   "metadata": {
    "scrolled": false
   },
   "outputs": [
    {
     "data": {
      "application/vnd.jupyter.widget-view+json": {
       "model_id": "056eff746c444cdb8b57f3821c60cbc2",
       "version_major": 2,
       "version_minor": 0
      },
      "text/plain": [
       "SEJveChjaGlsZHJlbj0oVkJveChjaGlsZHJlbj0oU2VsZWN0KGRlc2NyaXB0aW9uPXUnXHU5ODc5XHU3NmVlJywgbGF5b3V0PUxheW91dChoZWlnaHQ9dSc5MnB4JyksIG9wdGlvbnM9e3UnODDigKY=\n"
      ]
     },
     "metadata": {},
     "output_type": "display_data"
    },
    {
     "data": {
      "application/vnd.jupyter.widget-view+json": {
       "model_id": "0097b322215242b68204d26301e269d9",
       "version_major": 2,
       "version_minor": 0
      },
      "text/plain": [
       "Output()"
      ]
     },
     "metadata": {},
     "output_type": "display_data"
    }
   ],
   "source": [
    "view.line_one()"
   ]
  },
  {
   "cell_type": "markdown",
   "metadata": {},
   "source": [
    "### 6.2.走势对比"
   ]
  },
  {
   "cell_type": "code",
   "execution_count": 7,
   "metadata": {
    "scrolled": false
   },
   "outputs": [
    {
     "data": {
      "application/vnd.jupyter.widget-view+json": {
       "model_id": "1cc8713a8cd646dda0774a42bc659b0b",
       "version_major": 2,
       "version_minor": 0
      },
      "text/plain": [
       "SEJveChjaGlsZHJlbj0oVkJveChjaGlsZHJlbj0oU2VsZWN0TXVsdGlwbGUoZGVzY3JpcHRpb249dSdcdTk4NzlcdTc2ZWUnLCBpbmRleD0oMCwpLCBvcHRpb25zPXt1JzgwMTEzMCBcdTdlYmHigKY=\n"
      ]
     },
     "metadata": {},
     "output_type": "display_data"
    },
    {
     "data": {
      "application/vnd.jupyter.widget-view+json": {
       "model_id": "ecde98bf91734bac912bbe16e8dede48",
       "version_major": 2,
       "version_minor": 0
      },
      "text/plain": [
       "Output()"
      ]
     },
     "metadata": {},
     "output_type": "display_data"
    }
   ],
   "source": [
    "view.line_compar()"
   ]
  },
  {
   "cell_type": "markdown",
   "metadata": {},
   "source": [
    "## 7.行情图表\n",
    "- 行情信息：涨幅%、涨跌、开盘、收盘、最高、最低、昨收；\n",
    "- 交易信息：总手(万)、总额(亿)。"
   ]
  },
  {
   "cell_type": "code",
   "execution_count": 8,
   "metadata": {
    "scrolled": false
   },
   "outputs": [
    {
     "data": {
      "application/vnd.jupyter.widget-view+json": {
       "model_id": "5589418fd523445b8fd3bee0f02b931e",
       "version_major": 2,
       "version_minor": 0
      },
      "text/plain": [
       "SEJveChjaGlsZHJlbj0oU2VsZWN0KGRlc2NyaXB0aW9uPXUnXHU5ODc5XHU3NmVlJywgbGF5b3V0PUxheW91dChoZWlnaHQ9dSc4MHB4JyksIG9wdGlvbnM9KHUnXHU3NTMzXHU0ZTA3XHU0ZTDigKY=\n"
      ]
     },
     "metadata": {},
     "output_type": "display_data"
    },
    {
     "data": {
      "application/vnd.jupyter.widget-view+json": {
       "model_id": "2da49c68f96147629c398517cd90e5d4",
       "version_major": 2,
       "version_minor": 0
      },
      "text/plain": [
       "Output()"
      ]
     },
     "metadata": {},
     "output_type": "display_data"
    }
   ],
   "source": [
    "view.change()"
   ]
  },
  {
   "cell_type": "code",
   "execution_count": null,
   "metadata": {},
   "outputs": [],
   "source": []
  }
 ],
 "metadata": {
  "kernelspec": {
   "display_name": "Python 2",
   "language": "python",
   "name": "python2"
  },
  "language_info": {
   "codemirror_mode": {
    "name": "ipython",
    "version": 2
   },
   "file_extension": ".py",
   "mimetype": "text/x-python",
   "name": "python",
   "nbconvert_exporter": "python",
   "pygments_lexer": "ipython2",
   "version": "2.7.10"
  },
  "toc": {
   "base_numbering": 1,
   "nav_menu": {},
   "number_sections": false,
   "sideBar": true,
   "skip_h1_title": false,
   "title_cell": "MarkDown菜单",
   "title_sidebar": "Contents",
   "toc_cell": false,
   "toc_position": {},
   "toc_section_display": true,
   "toc_window_display": false
  }
 },
 "nbformat": 4,
 "nbformat_minor": 1
}
